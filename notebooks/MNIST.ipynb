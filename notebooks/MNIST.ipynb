{
 "cells": [
  {
   "cell_type": "code",
   "execution_count": 1,
   "metadata": {},
   "outputs": [
    {
     "name": "stdout",
     "output_type": "stream",
     "text": [
      "\n",
      "*** Thanks for importing sclblpy! ***\n",
      "You can use the 'upload()' function to upload your models.\n",
      "To inspect your currently uploaded models, use `endpoints()`.\n",
      "Check the docs at https://pypi.org/project/sclblpy/ for more info. \n",
      "\n"
     ]
    }
   ],
   "source": [
    "import time\n",
    "import numpy as np\n",
    "from sklearn.datasets import fetch_openml\n",
    "from sklearn.linear_model import LogisticRegression\n",
    "from sklearn.model_selection import train_test_split\n",
    "from sklearn.model_selection import cross_val_score\n",
    "from sklearn.utils import check_random_state\n",
    "from sklearn.ensemble import RandomForestClassifier\n",
    "import matplotlib as mpl\n",
    "import matplotlib.pyplot as plt\n",
    "import matplotlib.image as mpimg\n",
    "import sclblpy as sp"
   ]
  },
  {
   "cell_type": "code",
   "execution_count": 3,
   "metadata": {},
   "outputs": [],
   "source": [
    "# Get the data\n",
    "\n",
    "# Download data\n",
    "# X, y = fetch_openml(\"mnist_784\", version=1, return_X_y=True)\n",
    "# np.save(\"mnist_784_X\", X, allow_pickle=True)\n",
    "# np.save(\"mnist_784_y\", y, allow_pickle=True)\n",
    "\n",
    "# Load data from a local file\n",
    "X = np.load(\"./dataset/mnist_784_X.npy\", allow_pickle=True)\n",
    "y = np.load(\"./dataset/mnist_784_y.npy\", allow_pickle=True)\n",
    "\n",
    "X_train, X_test, y_train, y_test = train_test_split(X, y, random_state=42)"
   ]
  },
  {
   "cell_type": "code",
   "execution_count": 4,
   "metadata": {},
   "outputs": [],
   "source": [
    "def preprocess_image(img):\n",
    "    # Grab just the R channel (RGB all have the same values here)\n",
    "    img = img[:, :, 0]\n",
    "\n",
    "    # Invert values\n",
    "    img = 1 - img\n",
    "    \n",
    "    # Scale values from 0.0 – 1.0 to 0.0 – 255.0\n",
    "    img = img * 255.0\n",
    "    \n",
    "    return img\n",
    "\n",
    "def display_image(img):\n",
    "    plt.imshow(img, cmap=\"binary\")\n",
    "    \n",
    "def make_prediction(model, sample):\n",
    "    x = sample.reshape(1, -1)\n",
    "    prediction = model.predict(x)\n",
    "    print(f\"Prediction: {prediction[0]}\")\n",
    "    return prediction[0]\n",
    "\n",
    "def reshape_mnist_sample(sample):\n",
    "    return sample.reshape(28, 28)\n",
    "\n",
    "def get_random_digit(data=X_train):\n",
    "    random_index = np.int(np.floor(np.random.random() * len(data)))\n",
    "    random_index\n",
    "\n",
    "    return data[random_index]\n",
    "\n",
    "def make_prediction_for_random_digit(model, data=X_train):\n",
    "    img = get_random_digit(data)\n",
    "    img = reshape_mnist_sample(img)\n",
    "    display_image(img)\n",
    "    make_prediction(model, img)\n",
    "    \n",
    "# Plot a bunch of images from the train data\n",
    "def plot_train_data():\n",
    "    n_rows = 2\n",
    "    n_cols = 5\n",
    "    plt.figure(figsize=(n_cols * 2, n_rows * 2))\n",
    "    for row in range(n_rows):\n",
    "        for col in range(n_cols):\n",
    "            index = n_cols * row + col\n",
    "            plt.subplot(n_rows, n_cols, index + 1)\n",
    "            img = X_train[index].reshape(28, 28)\n",
    "            plt.imshow(img, cmap=\"binary\", interpolation=\"nearest\")\n",
    "            plt.axis('off')\n",
    "            plt.title([y_train[index]], fontsize=12)\n",
    "    plt.subplots_adjust(wspace=0.2, hspace=0.5)\n",
    "    plt.show()\n",
    "\n",
    "# Plot external images\n",
    "def plot_external_data(model):\n",
    "    n_rows = 2\n",
    "    n_cols = 5\n",
    "    plt.figure(figsize=(n_cols * 2, n_rows * 2))\n",
    "    for row in range(n_rows):\n",
    "        for col in range(n_cols):\n",
    "            index = n_cols * row + col\n",
    "            print(index)\n",
    "            plt.subplot(n_rows, n_cols, index + 1)\n",
    "            filename = f\"./images/experiment/{index}_28px.png\"\n",
    "            img = mpimg.imread(filename)\n",
    "            plt.imshow(img, cmap=\"binary\", interpolation=\"nearest\")\n",
    "            plt.axis('off')\n",
    "            img = preprocess_image(img)\n",
    "            prediction = make_prediction(model, img)\n",
    "            plt.title(f\"pred: {prediction}\", fontsize=12)\n",
    "    plt.subplots_adjust(wspace=0.2, hspace=0.5)\n",
    "    plt.show()\n"
   ]
  },
  {
   "cell_type": "code",
   "execution_count": 42,
   "metadata": {},
   "outputs": [],
   "source": [
    "# Images are resized into (28x28) in grayscale, with a black background \n",
    "# and a white foreground (the number should be in white).\n",
    "# Color value is scaled to [0.0, 1.0].\n",
    "\n",
    "filename = f\"./images/experiment/0_28px.png\"\n",
    "img = plt.imread(filename)\n",
    "\n",
    "# Grab just the R channel (RGB all have the same values here)\n",
    "img = img[:, :, 0]\n",
    "\n",
    "# Now, black is 1.0, white is 0.0\n",
    "# Invert so that black is 0.0 and white is 1.0\n",
    "img = 1 - img"
   ]
  },
  {
   "cell_type": "code",
   "execution_count": 44,
   "metadata": {},
   "outputs": [
    {
     "data": {
      "text/plain": [
       "<matplotlib.colorbar.Colorbar at 0x7fd3af9aa880>"
      ]
     },
     "execution_count": 44,
     "metadata": {},
     "output_type": "execute_result"
    },
    {
     "data": {
      "image/png": "[encoded data removed]",
      "text/plain": [
       "<Figure size 432x288 with 2 Axes>"
      ]
     },
     "metadata": {
      "needs_background": "light"
     },
     "output_type": "display_data"
    }
   ],
   "source": [
    "plt.imshow(img)\n",
    "plt.colorbar()"
   ]
  },
  {
   "cell_type": "code",
   "execution_count": 45,
   "metadata": {},
   "outputs": [
    {
     "data": {
      "text/plain": [
       "0.0"
      ]
     },
     "execution_count": 45,
     "metadata": {},
     "output_type": "execute_result"
    }
   ],
   "source": [
    "img[0, 0]"
   ]
  },
  {
   "cell_type": "code",
   "execution_count": 5,
   "metadata": {},
   "outputs": [
    {
     "name": "stdout",
     "output_type": "stream",
     "text": [
      "Score: 0.9653142857142857\n"
     ]
    }
   ],
   "source": [
    "# Train a model\n",
    "forest = RandomForestClassifier(random_state=42)\n",
    "forest.fit(X_train, y_train)\n",
    "print(f\"Score: {forest.score(X_test, y_test)}\")"
   ]
  },
  {
   "cell_type": "code",
   "execution_count": 8,
   "metadata": {},
   "outputs": [
    {
     "name": "stdout",
     "output_type": "stream",
     "text": [
      "Prediction: 4\n"
     ]
    },
    {
     "data": {
      "image/png": "[encoded data removed]",
      "text/plain": [
       "<Figure size 432x288 with 1 Axes>"
      ]
     },
     "metadata": {
      "needs_background": "light"
     },
     "output_type": "display_data"
    }
   ],
   "source": [
    "make_prediction_for_random_digit(forest)"
   ]
  },
  {
   "cell_type": "code",
   "execution_count": 9,
   "metadata": {},
   "outputs": [
    {
     "data": {
      "image/png": "[encoded data removed]",
      "text/plain": [
       "<Figure size 720x288 with 10 Axes>"
      ]
     },
     "metadata": {
      "needs_background": "light"
     },
     "output_type": "display_data"
    }
   ],
   "source": [
    "plot_train_data()"
   ]
  },
  {
   "cell_type": "code",
   "execution_count": 10,
   "metadata": {
    "scrolled": false
   },
   "outputs": [
    {
     "name": "stdout",
     "output_type": "stream",
     "text": [
      "0\n",
      "Prediction: 0\n",
      "1\n",
      "Prediction: 7\n",
      "2\n",
      "Prediction: 2\n",
      "3\n",
      "Prediction: 3\n",
      "4\n",
      "Prediction: 4\n",
      "5\n",
      "Prediction: 5\n",
      "6\n",
      "Prediction: 5\n",
      "7\n",
      "Prediction: 2\n",
      "8\n",
      "Prediction: 5\n",
      "9\n",
      "Prediction: 2\n"
     ]
    },
    {
     "data": {
      "image/png": "[encoded data removed]",
      "text/plain": [
       "<Figure size 720x288 with 10 Axes>"
      ]
     },
     "metadata": {
      "needs_background": "light"
     },
     "output_type": "display_data"
    }
   ],
   "source": [
    "plot_external_data(forest)"
   ]
  },
  {
   "cell_type": "markdown",
   "metadata": {},
   "source": [
    "## Try Scailable"
   ]
  },
  {
   "cell_type": "code",
   "execution_count": null,
   "metadata": {},
   "outputs": [],
   "source": [
    "# feature_vector = get_random_digit().reshape(1, -1)\n",
    "# docs = {}\n",
    "# docs['name'] = \"Random forest MNIST demo\"\n",
    "# docs['documentation'] = \"#My Random forest MNIST demo.\"\n",
    "\n",
    "# sp.upload(forest, feature_vector, docs=docs)\n",
    "# sp.endpoints()"
   ]
  },
  {
   "cell_type": "markdown",
   "metadata": {},
   "source": [
    "## Convert model to ONNX format"
   ]
  },
  {
   "cell_type": "code",
   "execution_count": null,
   "metadata": {},
   "outputs": [],
   "source": [
    "# Convert into ONNX format\n",
    "from skl2onnx import convert_sklearn\n",
    "from skl2onnx.common.data_types import FloatTensorType\n",
    "initial_type = [('X', FloatTensorType([None, X_train.shape[1]]))]\n",
    "onx = convert_sklearn(forest, initial_types=initial_type)\n",
    "with open(\"rf_mnist.onnx\", \"wb\") as f:\n",
    "    f.write(onx.SerializeToString())\n",
    "\n",
    "# Compute the prediction with ONNX Runtime\n",
    "import onnxruntime as rt\n",
    "import numpy\n",
    "sess = rt.InferenceSession(\"rf_mnist.onnx\")\n",
    "input_name = sess.get_inputs()[0].name\n",
    "label_name = sess.get_outputs()[0].name\n",
    "pred_onx = sess.run([label_name], {input_name: X_test.astype(numpy.float32)})[0]"
   ]
  },
  {
   "cell_type": "code",
   "execution_count": null,
   "metadata": {},
   "outputs": [],
   "source": []
  },
  {
   "cell_type": "code",
   "execution_count": null,
   "metadata": {},
   "outputs": [],
   "source": []
  },
  {
   "cell_type": "code",
   "execution_count": null,
   "metadata": {},
   "outputs": [],
   "source": []
  },
  {
   "cell_type": "code",
   "execution_count": null,
   "metadata": {},
   "outputs": [],
   "source": []
  },
  {
   "cell_type": "code",
   "execution_count": null,
   "metadata": {},
   "outputs": [],
   "source": []
  },
  {
   "cell_type": "code",
   "execution_count": null,
   "metadata": {},
   "outputs": [],
   "source": []
  },
  {
   "cell_type": "code",
   "execution_count": null,
   "metadata": {},
   "outputs": [],
   "source": []
  },
  {
   "cell_type": "code",
   "execution_count": null,
   "metadata": {},
   "outputs": [],
   "source": []
  },
  {
   "cell_type": "code",
   "execution_count": null,
   "metadata": {},
   "outputs": [],
   "source": []
  },
  {
   "cell_type": "code",
   "execution_count": null,
   "metadata": {},
   "outputs": [],
   "source": []
  },
  {
   "cell_type": "code",
   "execution_count": null,
   "metadata": {},
   "outputs": [],
   "source": []
  },
  {
   "cell_type": "code",
   "execution_count": null,
   "metadata": {},
   "outputs": [],
   "source": []
  },
  {
   "cell_type": "code",
   "execution_count": null,
   "metadata": {},
   "outputs": [],
   "source": []
  },
  {
   "cell_type": "code",
   "execution_count": null,
   "metadata": {},
   "outputs": [],
   "source": []
  },
  {
   "cell_type": "code",
   "execution_count": null,
   "metadata": {},
   "outputs": [],
   "source": []
  },
  {
   "cell_type": "code",
   "execution_count": null,
   "metadata": {},
   "outputs": [],
   "source": []
  },
  {
   "cell_type": "code",
   "execution_count": null,
   "metadata": {},
   "outputs": [],
   "source": []
  },
  {
   "cell_type": "code",
   "execution_count": null,
   "metadata": {},
   "outputs": [],
   "source": []
  },
  {
   "cell_type": "code",
   "execution_count": null,
   "metadata": {},
   "outputs": [],
   "source": []
  },
  {
   "cell_type": "code",
   "execution_count": null,
   "metadata": {},
   "outputs": [],
   "source": []
  },
  {
   "cell_type": "code",
   "execution_count": null,
   "metadata": {},
   "outputs": [],
   "source": []
  },
  {
   "cell_type": "code",
   "execution_count": null,
   "metadata": {},
   "outputs": [],
   "source": []
  }
 ],
 "metadata": {
  "kernelspec": {
   "display_name": "digit-recognizer",
   "language": "python",
   "name": "digit-recognizer"
  },
  "language_info": {
   "codemirror_mode": {
    "name": "ipython",
    "version": 3
   },
   "file_extension": ".py",
   "mimetype": "text/x-python",
   "name": "python",
   "nbconvert_exporter": "python",
   "pygments_lexer": "ipython3",
   "version": "3.8.6"
  }
 },
 "nbformat": 4,
 "nbformat_minor": 4
}
