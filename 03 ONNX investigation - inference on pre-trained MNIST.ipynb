{
 "cells": [
  {
   "cell_type": "code",
   "execution_count": 1,
   "metadata": {},
   "outputs": [],
   "source": [
    "import onnxruntime as rt\n",
    "import numpy\n",
    "import cv2\n",
    "import matplotlib.image as mpimg\n",
    "import matplotlib.pyplot as plt\n",
    "from scipy.special import softmax"
   ]
  },
  {
   "cell_type": "code",
   "execution_count": 2,
   "metadata": {},
   "outputs": [],
   "source": [
    "# Images are resized into (28x28) in grayscale, with a black background \n",
    "# and a white foreground (the number should be in white).\n",
    "# Color value is scaled to [0.0, 1.0].\n",
    "\n",
    "def display_test_digit():\n",
    "    digit = 0\n",
    "    filename = f\"./images/experiment/{digit}_28px.png\"\n",
    "    img = plt.imread(filename)\n",
    "\n",
    "    # Grab just the R channel (RGB all have the same values here)\n",
    "    img = img[:, :, 0]\n",
    "\n",
    "    # Now, black is 1.0, white is 0.0\n",
    "    # Invert so that black is 0.0 and white is 1.0\n",
    "    img = 1 - img\n",
    "\n",
    "    plt.imshow(img)\n",
    "    plt.colorbar()\n",
    "    \n",
    "def compute_predictions():\n",
    "    results = []\n",
    "    sess = rt.InferenceSession(\"./mnist/model.onnx\")\n",
    "    input_name = sess.get_inputs()[0].name\n",
    "    label_name = sess.get_outputs()[0].name\n",
    "    \n",
    "    for index in range(10):\n",
    "        filename = f\"./images/experiment/{index}_28px.png\"\n",
    "        img = plt.imread(filename)\n",
    "        img = img[:, :, 0]\n",
    "        img = 1 - img\n",
    "        img = np.reshape(img, (1,1,28,28))\n",
    "        \n",
    "        result = sess.run([label_name], {input_name: img.astype(numpy.float32)})[0]\n",
    "        results.append(result)\n",
    "        \n",
    "    return results"
   ]
  },
  {
   "cell_type": "code",
   "execution_count": 3,
   "metadata": {},
   "outputs": [
    {
     "data": {
      "image/png": "[encoded data removed]",
      "text/plain": [
       "<Figure size 432x288 with 2 Axes>"
      ]
     },
     "metadata": {
      "needs_background": "light"
     },
     "output_type": "display_data"
    }
   ],
   "source": [
    "display_test_digit()"
   ]
  },
  {
   "cell_type": "code",
   "execution_count": 4,
   "metadata": {
    "scrolled": false
   },
   "outputs": [],
   "source": [
    "results = compute_predictions()"
   ]
  },
  {
   "cell_type": "code",
   "execution_count": 5,
   "metadata": {},
   "outputs": [
    {
     "data": {
      "text/plain": [
       "[array([[10.728172 , -6.8007207,  1.5580465, -1.6515799, -5.180762 ,\n",
       "         -2.3467376, -2.220358 , -1.0861558,  1.7466371,  3.5954921]],\n",
       "       dtype=float32),\n",
       " array([[-3.2213569 ,  5.7605634 ,  2.5082083 ,  0.99621016, -1.5549271 ,\n",
       "         -4.429056  , -6.6317863 ,  3.9202158 , -3.6322498 ,  0.39035892]],\n",
       "       dtype=float32),\n",
       " array([[ 1.5843709 ,  0.33803695,  9.26572   ,  0.84295595, -6.3768287 ,\n",
       "         -0.52331126, -5.901234  , -1.6097771 , -4.023111  , -1.5818892 ]],\n",
       "       dtype=float32),\n",
       " array([[-1.1189073, -5.464125 ,  2.3455467, 13.291215 , -6.988659 ,\n",
       "          2.52335  , -6.3168106, -0.9385462,  0.0174595,  1.1397445]],\n",
       "       dtype=float32),\n",
       " array([[-3.7166035 , -3.541924  , -3.0699298 , -5.042224  ,  6.9845304 ,\n",
       "          1.2912376 ,  0.699243  ,  0.18104938,  3.2353134 ,  1.7414731 ]],\n",
       "       dtype=float32),\n",
       " array([[-2.1720507 , -7.091644  , -0.39993024,  2.0522482 , -4.371628  ,\n",
       "         14.31105   , -1.2504776 , -2.0695884 ,  2.0834448 ,  1.949433  ]],\n",
       "       dtype=float32),\n",
       " array([[ 2.729259  , -8.953998  , -1.5922064 ,  0.48821372, -6.692381  ,\n",
       "          7.9870725 ,  8.974689  , -9.12128   ,  6.171887  , -1.9488275 ]],\n",
       "       dtype=float32),\n",
       " array([[-7.357924  , -1.5180349 ,  6.5155897 ,  6.055775  , -0.66980916,\n",
       "         -7.0184665 , -9.4962015 , 12.650127  ,  0.3167143 ,  0.34698266]],\n",
       "       dtype=float32),\n",
       " array([[-0.12325405, -6.743308  ,  1.6045393 ,  2.131635  , -4.3069715 ,\n",
       "         -0.15668434,  4.2209516 , -8.849277  , 10.242799  , -1.273903  ]],\n",
       "       dtype=float32),\n",
       " array([[-0.17514944, -5.4204473 , -2.3616567 ,  1.1393288 ,  3.637781  ,\n",
       "          2.7716167 , -4.4939194 , -6.1476507 ,  1.5049213 ,  2.9757428 ]],\n",
       "       dtype=float32)]"
      ]
     },
     "execution_count": 5,
     "metadata": {},
     "output_type": "execute_result"
    }
   ],
   "source": [
    "results"
   ]
  },
  {
   "cell_type": "code",
   "execution_count": 6,
   "metadata": {},
   "outputs": [],
   "source": [
    "result = softmax(results[0])"
   ]
  },
  {
   "cell_type": "code",
   "execution_count": 18,
   "metadata": {},
   "outputs": [
    {
     "name": "stdout",
     "output_type": "stream",
     "text": [
      "0.99896\n",
      "0.00000\n",
      "0.00010\n",
      "0.00000\n",
      "0.00000\n",
      "0.00000\n",
      "0.00000\n",
      "0.00001\n",
      "0.00013\n",
      "0.00080\n"
     ]
    }
   ],
   "source": [
    "for probability in result[0]:\n",
    "    probability_formatted = format(probability, '.5f')\n",
    "    print(probability_formatted)"
   ]
  }
 ],
 "metadata": {
  "kernelspec": {
   "display_name": "digit-recognizer",
   "language": "python",
   "name": "digit-recognizer"
  },
  "language_info": {
   "codemirror_mode": {
    "name": "ipython",
    "version": 3
   },
   "file_extension": ".py",
   "mimetype": "text/x-python",
   "name": "python",
   "nbconvert_exporter": "python",
   "pygments_lexer": "ipython3",
   "version": "3.8.6"
  }
 },
 "nbformat": 4,
 "nbformat_minor": 4
}
